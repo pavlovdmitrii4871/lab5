{
 "cells": [
  {
   "cell_type": "markdown",
   "id": "b8c9623f",
   "metadata": {
    "pycharm": {
     "name": "#%% md\n"
    }
   },
   "source": [
    "# Лабораторная работа №5\n",
    "## Выполнил студент группы БСТ2201 Павлов Дмитрий"
   ]
  },
  {
   "cell_type": "markdown",
   "id": "6c0e765b",
   "metadata": {
    "pycharm": {
     "name": "#%% md\n"
    }
   },
   "source": [
    "## Задание №1\n",
    "Реализовать методы поиска подстроки в строке. Добавить возможность ввода строки и подстроки с клавиатуры.\n",
    "Предусмотреть возможность существования пробела.\n",
    "Реализовать возможность выбора опции чувствительности или нечувствительности к регистру.\n",
    "Оценить время работы каждого алгоритма поиска и сравнить его со временем работы стандартной функции поиска, используемой\n",
    "в выбранном языке программирования.\n",
    "\n",
    "Алгоритм Кнута-Морриса-Пратта"
   ]
  },
  {
   "cell_type": "code",
   "execution_count": 13,
   "id": "ddeef4d7",
   "metadata": {
    "pycharm": {
     "name": "#%%\n"
    }
   },
   "outputs": [],
   "source": [
    "# Префикс-функция O(m)\n",
    "def prefix(string):\n",
    "    pi = [0] * len(string) # формируем массив pi\n",
    "    i, j = 1, 0\n",
    "    while i < len(string):\n",
    "        if string[j] == string[i]:\n",
    "            i += 1\n",
    "            j += 1\n",
    "        else:\n",
    "            if j == 0:\n",
    "                pi[i] = 0\n",
    "                i += 1\n",
    "            else:\n",
    "                j = pi[j-1]\n",
    "    return pi\n",
    "\n",
    "# Алгоритм Кнута-Морриса-Пратта О(string+substring) string-строка, substring-подстрока\n",
    "def KMP(string, substring):\n",
    "    # добавляться индексы вхождения подстроки в строку\n",
    "    arr_index = []\n",
    "    # индекс текущего символа в подстроке\n",
    "    substr_index = 0\n",
    "    # вычисляем префикс-функцию для подстроки\n",
    "    p = prefix(substring)\n",
    "\n",
    "    for i in range(len(string)):\n",
    "        while substr_index > 0 and string[i] != substring[substr_index]:\n",
    "            # поиск подстроки в строке с использованием предыдущих символов подстроки.\n",
    "            substr_index = p[substr_index - 1]\n",
    "        # равен ли текущий символ строки символу подстроки.\n",
    "        if string[i] == substring[substr_index]: # если символы совпадают\n",
    "            substr_index += 1\n",
    "        # нашли вхождение подстроки в строку\n",
    "        if substr_index == len(substring):\n",
    "            # добавляем индекс начала вхождения и конца вхождения в список arr_index.\n",
    "            arr_index.append((i - len(substring) + 1, i + 1))\n",
    "            # Затем переменная k устанавливается в значение префикс-функции для substring[k-1].\n",
    "            substr_index = p[substr_index - 1]\n",
    "\n",
    "    return arr_index"
   ]
  },
  {
   "cell_type": "markdown",
   "id": "af6141b8",
   "metadata": {
    "pycharm": {
     "name": "#%% md\n"
    }
   },
   "source": [
    "Алгоритм Бойера-Мура"
   ]
  },
  {
   "cell_type": "code",
   "execution_count": 14,
   "id": "064da9fd",
   "metadata": {
    "pycharm": {
     "name": "#%%\n"
    }
   },
   "outputs": [],
   "source": [
    "# Нужен для создания словаря в алг. Бойера-Мура\n",
    "from collections import defaultdict\n",
    "\n",
    "# Упрощенный Бойера-Мура\n",
    "def preprocess(substring):\n",
    "    # Строит таблицу смещений\n",
    "    T = [len(substring)]*256  # Создание списка T с длиной подстроки substring, содержащего значения len(substring) повторенные 256 раз\n",
    "    for i in range(len(substring) - 1):\n",
    "        # Присваиваем элементу массива T с индексом, равным ASCII-коду i-го символа слова w,\n",
    "        # значение, равное длине слова минус 1 минус i\n",
    "        T[ord(substring[i])] = len(substring) - 1 - i\n",
    "    return T\n",
    "\n",
    "# Алгоритм Бойера-Мура\n",
    "def BM(string, substring):\n",
    "    A = []  # Список для хранения кортежей с индексами начала и конца вхождения слова в строке\n",
    "    T = preprocess(substring)  # Получение таблицы смещений\n",
    "    # Отслеживание текущей позиции в строке\n",
    "    skip = 0\n",
    "    # Пока остаток строки после skip не будет меньше длины подстроки\n",
    "    while len(string) - skip >= len(substring):\n",
    "        # Если подстрока s[skip:skip + len(w)] равна подстроке substring\n",
    "        if string[skip:skip + len(substring)] == substring:\n",
    "           # Добавляем кортеж с индексами начала и конца вхождения слова в список A\n",
    "            A.append((skip, skip + len(substring)))\n",
    "        # Увеличиваем значение переменной skip на величину, указанную в таблице смещений\n",
    "        # для символа, стоящего сразу после последнего символа текущей подстроки\n",
    "        skip += T[ord(string[skip + len(substring) - 1])]\n",
    "    return A"
   ]
  },
  {
   "cell_type": "markdown",
   "id": "b8358146",
   "metadata": {
    "pycharm": {
     "name": "#%% md\n"
    }
   },
   "source": [
    "Встроенный поиск"
   ]
  },
  {
   "cell_type": "code",
   "execution_count": 15,
   "id": "b52daae3",
   "metadata": {
    "pycharm": {
     "name": "#%%\n"
    }
   },
   "outputs": [],
   "source": [
    "def INBS(string, substring):\n",
    "    A = []\n",
    "    index = string.find(substring)\n",
    "    while index != -1:\n",
    "        A.append((index, index + len(substring)))\n",
    "        index = string.find(substring, index + 1)\n",
    "    return A"
   ]
  },
  {
   "cell_type": "markdown",
   "id": "9d52f7a9",
   "metadata": {
    "pycharm": {
     "name": "#%% md\n"
    }
   },
   "source": [
    "Вызов функций алгоритмов и сравнение по времени"
   ]
  },
  {
   "cell_type": "code",
   "execution_count": 16,
   "id": "a0eadab1",
   "metadata": {
    "pycharm": {
     "name": "#%%\n"
    }
   },
   "outputs": [
    {
     "name": "stdout",
     "output_type": "stream",
     "text": [
      "Теперь строка выглядит: beauty and the beast, а подстрока: beast\n",
      "Результат: \n",
      "\n",
      "КМР\n",
      "[(15, 20)]\n",
      "Длина подстроки:  5\n",
      "7.770000001983135e-05 секунд\n",
      "\n",
      "BM\n",
      "[(15, 20)]\n",
      "Длина подстроки:  5\n",
      "6.520000010823424e-05 секунд\n",
      "\n",
      "Встроенный поиск\n",
      "[(15, 20)]\n",
      "Длина подстроки:  5\n",
      "5.830000009154901e-05 секунд\n",
      "\n"
     ]
    }
   ],
   "source": [
    "import timeit\n",
    "\n",
    "string = input(\"Введите строку: \")\n",
    "substring = input(\"Введите подстроку: \")\n",
    "register = input(\"Выключить регистр? (y/n) \")\n",
    "space = input(\"Выключить пробелы? (y/n) \")\n",
    "\n",
    "if register == \"y\":\n",
    "    string = string.lower()\n",
    "    substring = substring.lower()\n",
    "if space == \"y\":\n",
    "    string = string.replace(\" \", \"\")\n",
    "print(f\"Теперь строка выглядит: {string}, а подстрока: {substring}\")\n",
    "\n",
    "\n",
    "\n",
    "print(\"Результат: \\n\\nКМР\")\n",
    "starttime = timeit.default_timer()\n",
    "print(KMP(string, substring))\n",
    "print(\"Длина подстроки: \", len(substring))\n",
    "endtime = timeit.default_timer()\n",
    "print(endtime - starttime, \"секунд\\n\")\n",
    "\n",
    "print(\"BM\")\n",
    "starttime = timeit.default_timer()\n",
    "print(BM(string, substring))\n",
    "print(\"Длина подстроки: \", len(substring))\n",
    "endtime = timeit.default_timer()\n",
    "print(endtime - starttime, \"секунд\\n\")\n",
    "\n",
    "print(\"Встроенный поиск\")\n",
    "starttime = timeit.default_timer()\n",
    "print(INBS(string, substring))\n",
    "print(\"Длина подстроки: \", len(substring))\n",
    "endtime = timeit.default_timer()\n",
    "print(endtime - starttime, \"секунд\\n\")"
   ]
  }
 ],
 "metadata": {
  "kernelspec": {
   "display_name": "Python 3 (ipykernel)",
   "language": "python",
   "name": "python3"
  },
  "language_info": {
   "codemirror_mode": {
    "name": "ipython",
    "version": 3
   },
   "file_extension": ".py",
   "mimetype": "text/x-python",
   "name": "python",
   "nbconvert_exporter": "python",
   "pygments_lexer": "ipython3",
   "version": "3.9.13"
  }
 },
 "nbformat": 4,
 "nbformat_minor": 5
}